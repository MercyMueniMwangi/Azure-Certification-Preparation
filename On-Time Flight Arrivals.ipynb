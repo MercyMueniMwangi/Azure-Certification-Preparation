{
  "cells": [
    {
      "metadata": {},
      "cell_type": "markdown",
      "source": "# RANDOM FOREST CLASSIFIER EXAMPLE"
    },
    {
      "metadata": {},
      "cell_type": "markdown",
      "source": "You have imported a dataset containing on-time arrival information for a major U.S. airline. That data included 26 columns and thousands of rows, with each row representing one flight and containing information such as the flight's origin, destination, and scheduled departure time. You also loaded the data into a Jupyter notebook and used a simple Python script to create a Pandas DataFrame from it."
    },
    {
      "metadata": {
        "trusted": true
      },
      "cell_type": "code",
      "source": "#Downloading the data\n!curl https://topcs.blob.core.windows.net/public/FlightData.csv -o flightdata.csv",
      "execution_count": 43,
      "outputs": [
        {
          "output_type": "stream",
          "text": "  % Total    % Received % Xferd  Average Speed   Time    Time     Time  Current\n                                 Dload  Upload   Total   Spent    Left  Speed\n100 1552k  100 1552k    0     0  1503k      0  0:00:01  0:00:01 --:--:-- 1516k\n",
          "name": "stdout"
        }
      ]
    },
    {
      "metadata": {
        "trusted": true
      },
      "cell_type": "code",
      "source": "\"\"\"importing the data using numpy \nand viewing the first 5 elements of the data\"\"\" \n\nimport pandas as pd\ndata= pd.read_csv('flightdata.csv')\ndata.head()",
      "execution_count": 44,
      "outputs": [
        {
          "output_type": "execute_result",
          "execution_count": 44,
          "data": {
            "text/html": "<div>\n<style scoped>\n    .dataframe tbody tr th:only-of-type {\n        vertical-align: middle;\n    }\n\n    .dataframe tbody tr th {\n        vertical-align: top;\n    }\n\n    .dataframe thead th {\n        text-align: right;\n    }\n</style>\n<table border=\"1\" class=\"dataframe\">\n  <thead>\n    <tr style=\"text-align: right;\">\n      <th></th>\n      <th>YEAR</th>\n      <th>QUARTER</th>\n      <th>MONTH</th>\n      <th>DAY_OF_MONTH</th>\n      <th>DAY_OF_WEEK</th>\n      <th>UNIQUE_CARRIER</th>\n      <th>TAIL_NUM</th>\n      <th>FL_NUM</th>\n      <th>ORIGIN_AIRPORT_ID</th>\n      <th>ORIGIN</th>\n      <th>...</th>\n      <th>CRS_ARR_TIME</th>\n      <th>ARR_TIME</th>\n      <th>ARR_DELAY</th>\n      <th>ARR_DEL15</th>\n      <th>CANCELLED</th>\n      <th>DIVERTED</th>\n      <th>CRS_ELAPSED_TIME</th>\n      <th>ACTUAL_ELAPSED_TIME</th>\n      <th>DISTANCE</th>\n      <th>Unnamed: 25</th>\n    </tr>\n  </thead>\n  <tbody>\n    <tr>\n      <th>0</th>\n      <td>2016</td>\n      <td>1</td>\n      <td>1</td>\n      <td>1</td>\n      <td>5</td>\n      <td>DL</td>\n      <td>N836DN</td>\n      <td>1399</td>\n      <td>10397</td>\n      <td>ATL</td>\n      <td>...</td>\n      <td>2143</td>\n      <td>2102.0</td>\n      <td>-41.0</td>\n      <td>0.0</td>\n      <td>0.0</td>\n      <td>0.0</td>\n      <td>338.0</td>\n      <td>295.0</td>\n      <td>2182.0</td>\n      <td>NaN</td>\n    </tr>\n    <tr>\n      <th>1</th>\n      <td>2016</td>\n      <td>1</td>\n      <td>1</td>\n      <td>1</td>\n      <td>5</td>\n      <td>DL</td>\n      <td>N964DN</td>\n      <td>1476</td>\n      <td>11433</td>\n      <td>DTW</td>\n      <td>...</td>\n      <td>1435</td>\n      <td>1439.0</td>\n      <td>4.0</td>\n      <td>0.0</td>\n      <td>0.0</td>\n      <td>0.0</td>\n      <td>110.0</td>\n      <td>115.0</td>\n      <td>528.0</td>\n      <td>NaN</td>\n    </tr>\n    <tr>\n      <th>2</th>\n      <td>2016</td>\n      <td>1</td>\n      <td>1</td>\n      <td>1</td>\n      <td>5</td>\n      <td>DL</td>\n      <td>N813DN</td>\n      <td>1597</td>\n      <td>10397</td>\n      <td>ATL</td>\n      <td>...</td>\n      <td>1215</td>\n      <td>1142.0</td>\n      <td>-33.0</td>\n      <td>0.0</td>\n      <td>0.0</td>\n      <td>0.0</td>\n      <td>335.0</td>\n      <td>300.0</td>\n      <td>2182.0</td>\n      <td>NaN</td>\n    </tr>\n    <tr>\n      <th>3</th>\n      <td>2016</td>\n      <td>1</td>\n      <td>1</td>\n      <td>1</td>\n      <td>5</td>\n      <td>DL</td>\n      <td>N587NW</td>\n      <td>1768</td>\n      <td>14747</td>\n      <td>SEA</td>\n      <td>...</td>\n      <td>1335</td>\n      <td>1345.0</td>\n      <td>10.0</td>\n      <td>0.0</td>\n      <td>0.0</td>\n      <td>0.0</td>\n      <td>196.0</td>\n      <td>205.0</td>\n      <td>1399.0</td>\n      <td>NaN</td>\n    </tr>\n    <tr>\n      <th>4</th>\n      <td>2016</td>\n      <td>1</td>\n      <td>1</td>\n      <td>1</td>\n      <td>5</td>\n      <td>DL</td>\n      <td>N836DN</td>\n      <td>1823</td>\n      <td>14747</td>\n      <td>SEA</td>\n      <td>...</td>\n      <td>607</td>\n      <td>615.0</td>\n      <td>8.0</td>\n      <td>0.0</td>\n      <td>0.0</td>\n      <td>0.0</td>\n      <td>247.0</td>\n      <td>259.0</td>\n      <td>1927.0</td>\n      <td>NaN</td>\n    </tr>\n  </tbody>\n</table>\n<p>5 rows × 26 columns</p>\n</div>",
            "text/plain": "   YEAR  QUARTER  MONTH  DAY_OF_MONTH  DAY_OF_WEEK UNIQUE_CARRIER TAIL_NUM  \\\n0  2016        1      1             1            5             DL   N836DN   \n1  2016        1      1             1            5             DL   N964DN   \n2  2016        1      1             1            5             DL   N813DN   \n3  2016        1      1             1            5             DL   N587NW   \n4  2016        1      1             1            5             DL   N836DN   \n\n   FL_NUM  ORIGIN_AIRPORT_ID ORIGIN     ...       CRS_ARR_TIME ARR_TIME  \\\n0    1399              10397    ATL     ...               2143   2102.0   \n1    1476              11433    DTW     ...               1435   1439.0   \n2    1597              10397    ATL     ...               1215   1142.0   \n3    1768              14747    SEA     ...               1335   1345.0   \n4    1823              14747    SEA     ...                607    615.0   \n\n   ARR_DELAY  ARR_DEL15  CANCELLED  DIVERTED  CRS_ELAPSED_TIME  \\\n0      -41.0        0.0        0.0       0.0             338.0   \n1        4.0        0.0        0.0       0.0             110.0   \n2      -33.0        0.0        0.0       0.0             335.0   \n3       10.0        0.0        0.0       0.0             196.0   \n4        8.0        0.0        0.0       0.0             247.0   \n\n   ACTUAL_ELAPSED_TIME  DISTANCE  Unnamed: 25  \n0                295.0    2182.0          NaN  \n1                115.0     528.0          NaN  \n2                300.0    2182.0          NaN  \n3                205.0    1399.0          NaN  \n4                259.0    1927.0          NaN  \n\n[5 rows x 26 columns]"
          },
          "metadata": {}
        }
      ]
    },
    {
      "metadata": {
        "trusted": true
      },
      "cell_type": "code",
      "source": "#checking the shape of the data\n#this give the row count and the column count\ndata.shape",
      "execution_count": 45,
      "outputs": [
        {
          "output_type": "execute_result",
          "execution_count": 45,
          "data": {
            "text/plain": "(11231, 26)"
          },
          "metadata": {}
        }
      ]
    },
    {
      "metadata": {
        "trusted": true
      },
      "cell_type": "code",
      "source": "#checking any columns has null values\ndata.isnull().values.any()",
      "execution_count": 46,
      "outputs": [
        {
          "output_type": "execute_result",
          "execution_count": 46,
          "data": {
            "text/plain": "True"
          },
          "metadata": {}
        }
      ]
    },
    {
      "metadata": {
        "trusted": true
      },
      "cell_type": "code",
      "source": "#checking which columns have  missing values\ndata.isnull().any()",
      "execution_count": 47,
      "outputs": [
        {
          "output_type": "execute_result",
          "execution_count": 47,
          "data": {
            "text/plain": "YEAR                   False\nQUARTER                False\nMONTH                  False\nDAY_OF_MONTH           False\nDAY_OF_WEEK            False\nUNIQUE_CARRIER         False\nTAIL_NUM               False\nFL_NUM                 False\nORIGIN_AIRPORT_ID      False\nORIGIN                 False\nDEST_AIRPORT_ID        False\nDEST                   False\nCRS_DEP_TIME           False\nDEP_TIME                True\nDEP_DELAY               True\nDEP_DEL15               True\nCRS_ARR_TIME           False\nARR_TIME                True\nARR_DELAY               True\nARR_DEL15               True\nCANCELLED              False\nDIVERTED               False\nCRS_ELAPSED_TIME       False\nACTUAL_ELAPSED_TIME     True\nDISTANCE               False\nUnnamed: 25             True\ndtype: bool"
          },
          "metadata": {}
        }
      ]
    },
    {
      "metadata": {
        "trusted": true
      },
      "cell_type": "code",
      "source": "#counting the number of missing values\ndata.isnull().sum()",
      "execution_count": 48,
      "outputs": [
        {
          "output_type": "execute_result",
          "execution_count": 48,
          "data": {
            "text/plain": "YEAR                       0\nQUARTER                    0\nMONTH                      0\nDAY_OF_MONTH               0\nDAY_OF_WEEK                0\nUNIQUE_CARRIER             0\nTAIL_NUM                   0\nFL_NUM                     0\nORIGIN_AIRPORT_ID          0\nORIGIN                     0\nDEST_AIRPORT_ID            0\nDEST                       0\nCRS_DEP_TIME               0\nDEP_TIME                 107\nDEP_DELAY                107\nDEP_DEL15                107\nCRS_ARR_TIME               0\nARR_TIME                 115\nARR_DELAY                188\nARR_DEL15                188\nCANCELLED                  0\nDIVERTED                   0\nCRS_ELAPSED_TIME           0\nACTUAL_ELAPSED_TIME      188\nDISTANCE                   0\nUnnamed: 25            11231\ndtype: int64"
          },
          "metadata": {}
        }
      ]
    },
    {
      "metadata": {
        "trusted": true,
        "scrolled": true
      },
      "cell_type": "code",
      "source": "#checking for data types of each feature or column\ndata.dtypes",
      "execution_count": 49,
      "outputs": [
        {
          "output_type": "execute_result",
          "execution_count": 49,
          "data": {
            "text/plain": "YEAR                     int64\nQUARTER                  int64\nMONTH                    int64\nDAY_OF_MONTH             int64\nDAY_OF_WEEK              int64\nUNIQUE_CARRIER          object\nTAIL_NUM                object\nFL_NUM                   int64\nORIGIN_AIRPORT_ID        int64\nORIGIN                  object\nDEST_AIRPORT_ID          int64\nDEST                    object\nCRS_DEP_TIME             int64\nDEP_TIME               float64\nDEP_DELAY              float64\nDEP_DEL15              float64\nCRS_ARR_TIME             int64\nARR_TIME               float64\nARR_DELAY              float64\nARR_DEL15              float64\nCANCELLED              float64\nDIVERTED               float64\nCRS_ELAPSED_TIME       float64\nACTUAL_ELAPSED_TIME    float64\nDISTANCE               float64\nUnnamed: 25            float64\ndtype: object"
          },
          "metadata": {}
        }
      ]
    },
    {
      "metadata": {},
      "cell_type": "markdown",
      "source": "# Preparing and Cleaning The Data\n\n\nSince we have seen our data is far from being clean lets clean the data"
    },
    {
      "metadata": {
        "trusted": true
      },
      "cell_type": "code",
      "source": "#since  the unnamed column has no any data we drop it\n#data = data.drop('Unnamed: 25', axis=1) #Uncomment this code and run it\ndata.isnull().sum()",
      "execution_count": 50,
      "outputs": [
        {
          "output_type": "execute_result",
          "execution_count": 50,
          "data": {
            "text/plain": "YEAR                       0\nQUARTER                    0\nMONTH                      0\nDAY_OF_MONTH               0\nDAY_OF_WEEK                0\nUNIQUE_CARRIER             0\nTAIL_NUM                   0\nFL_NUM                     0\nORIGIN_AIRPORT_ID          0\nORIGIN                     0\nDEST_AIRPORT_ID            0\nDEST                       0\nCRS_DEP_TIME               0\nDEP_TIME                 107\nDEP_DELAY                107\nDEP_DEL15                107\nCRS_ARR_TIME               0\nARR_TIME                 115\nARR_DELAY                188\nARR_DEL15                188\nCANCELLED                  0\nDIVERTED                   0\nCRS_ELAPSED_TIME           0\nACTUAL_ELAPSED_TIME      188\nDISTANCE                   0\nUnnamed: 25            11231\ndtype: int64"
          },
          "metadata": {}
        }
      ]
    },
    {
      "metadata": {},
      "cell_type": "markdown",
      "source": "The DataFrame still contains a lot of missing values, but some of them aren't useful because the columns containing them are not relevant to the model that you are building. The goal of that model is to predict whether a flight you are considering booking is likely to arrive on time. If you know that the flight is likely to be late, you might choose to book another flight."
    },
    {
      "metadata": {},
      "cell_type": "markdown",
      "source": "The DataFrame still contains a lot of missing values, but some of them aren't useful because the columns containing them are not relevant to the model that you are building. The goal of that model is to predict whether a flight you are considering booking is likely to arrive on time. If you know that the flight is likely to be late, you might choose to book another flight."
    },
    {
      "metadata": {
        "trusted": true
      },
      "cell_type": "code",
      "source": "#FILTER OUT THE COLUMNS WE DONT NEED",
      "execution_count": 51,
      "outputs": []
    },
    {
      "metadata": {
        "trusted": true
      },
      "cell_type": "code",
      "source": "data = data[[\"MONTH\", \"DAY_OF_MONTH\", \"DAY_OF_WEEK\", \"ORIGIN\", \"DEST\", \"CRS_DEP_TIME\", \"ARR_DEL15\"]]\ndata.isnull().sum()",
      "execution_count": 52,
      "outputs": [
        {
          "output_type": "execute_result",
          "execution_count": 52,
          "data": {
            "text/plain": "MONTH             0\nDAY_OF_MONTH      0\nDAY_OF_WEEK       0\nORIGIN            0\nDEST              0\nCRS_DEP_TIME      0\nARR_DEL15       188\ndtype: int64"
          },
          "metadata": {}
        }
      ]
    },
    {
      "metadata": {
        "trusted": true
      },
      "cell_type": "code",
      "source": "data.shape",
      "execution_count": 53,
      "outputs": [
        {
          "output_type": "execute_result",
          "execution_count": 53,
          "data": {
            "text/plain": "(11231, 7)"
          },
          "metadata": {}
        }
      ]
    },
    {
      "metadata": {},
      "cell_type": "markdown",
      "source": "The only column that now contains missing values is the ARR_DEL15 column, which uses 0s to identify flights that arrived on time and 1s for flights that didn't."
    },
    {
      "metadata": {
        "trusted": true
      },
      "cell_type": "code",
      "source": "#lets check the first five rows with missing values\ndata[data.isnull().values.any(axis=1)]",
      "execution_count": 54,
      "outputs": [
        {
          "output_type": "execute_result",
          "execution_count": 54,
          "data": {
            "text/html": "<div>\n<style scoped>\n    .dataframe tbody tr th:only-of-type {\n        vertical-align: middle;\n    }\n\n    .dataframe tbody tr th {\n        vertical-align: top;\n    }\n\n    .dataframe thead th {\n        text-align: right;\n    }\n</style>\n<table border=\"1\" class=\"dataframe\">\n  <thead>\n    <tr style=\"text-align: right;\">\n      <th></th>\n      <th>MONTH</th>\n      <th>DAY_OF_MONTH</th>\n      <th>DAY_OF_WEEK</th>\n      <th>ORIGIN</th>\n      <th>DEST</th>\n      <th>CRS_DEP_TIME</th>\n      <th>ARR_DEL15</th>\n    </tr>\n  </thead>\n  <tbody>\n    <tr>\n      <th>177</th>\n      <td>1</td>\n      <td>9</td>\n      <td>6</td>\n      <td>MSP</td>\n      <td>SEA</td>\n      <td>701</td>\n      <td>NaN</td>\n    </tr>\n    <tr>\n      <th>179</th>\n      <td>1</td>\n      <td>10</td>\n      <td>7</td>\n      <td>MSP</td>\n      <td>DTW</td>\n      <td>1348</td>\n      <td>NaN</td>\n    </tr>\n    <tr>\n      <th>184</th>\n      <td>1</td>\n      <td>10</td>\n      <td>7</td>\n      <td>MSP</td>\n      <td>DTW</td>\n      <td>625</td>\n      <td>NaN</td>\n    </tr>\n    <tr>\n      <th>210</th>\n      <td>1</td>\n      <td>10</td>\n      <td>7</td>\n      <td>DTW</td>\n      <td>MSP</td>\n      <td>1200</td>\n      <td>NaN</td>\n    </tr>\n    <tr>\n      <th>478</th>\n      <td>1</td>\n      <td>22</td>\n      <td>5</td>\n      <td>SEA</td>\n      <td>JFK</td>\n      <td>2305</td>\n      <td>NaN</td>\n    </tr>\n    <tr>\n      <th>481</th>\n      <td>1</td>\n      <td>22</td>\n      <td>5</td>\n      <td>ATL</td>\n      <td>JFK</td>\n      <td>1745</td>\n      <td>NaN</td>\n    </tr>\n    <tr>\n      <th>491</th>\n      <td>1</td>\n      <td>22</td>\n      <td>5</td>\n      <td>MSP</td>\n      <td>JFK</td>\n      <td>1755</td>\n      <td>NaN</td>\n    </tr>\n    <tr>\n      <th>499</th>\n      <td>1</td>\n      <td>23</td>\n      <td>6</td>\n      <td>JFK</td>\n      <td>ATL</td>\n      <td>1325</td>\n      <td>NaN</td>\n    </tr>\n    <tr>\n      <th>500</th>\n      <td>1</td>\n      <td>23</td>\n      <td>6</td>\n      <td>JFK</td>\n      <td>ATL</td>\n      <td>1540</td>\n      <td>NaN</td>\n    </tr>\n    <tr>\n      <th>501</th>\n      <td>1</td>\n      <td>23</td>\n      <td>6</td>\n      <td>JFK</td>\n      <td>SEA</td>\n      <td>740</td>\n      <td>NaN</td>\n    </tr>\n    <tr>\n      <th>502</th>\n      <td>1</td>\n      <td>23</td>\n      <td>6</td>\n      <td>JFK</td>\n      <td>ATL</td>\n      <td>610</td>\n      <td>NaN</td>\n    </tr>\n    <tr>\n      <th>503</th>\n      <td>1</td>\n      <td>23</td>\n      <td>6</td>\n      <td>JFK</td>\n      <td>ATL</td>\n      <td>805</td>\n      <td>NaN</td>\n    </tr>\n    <tr>\n      <th>504</th>\n      <td>1</td>\n      <td>23</td>\n      <td>6</td>\n      <td>JFK</td>\n      <td>ATL</td>\n      <td>1715</td>\n      <td>NaN</td>\n    </tr>\n    <tr>\n      <th>505</th>\n      <td>1</td>\n      <td>23</td>\n      <td>6</td>\n      <td>JFK</td>\n      <td>SEA</td>\n      <td>1825</td>\n      <td>NaN</td>\n    </tr>\n    <tr>\n      <th>506</th>\n      <td>1</td>\n      <td>23</td>\n      <td>6</td>\n      <td>ATL</td>\n      <td>JFK</td>\n      <td>1205</td>\n      <td>NaN</td>\n    </tr>\n    <tr>\n      <th>507</th>\n      <td>1</td>\n      <td>23</td>\n      <td>6</td>\n      <td>JFK</td>\n      <td>SEA</td>\n      <td>1615</td>\n      <td>NaN</td>\n    </tr>\n    <tr>\n      <th>511</th>\n      <td>1</td>\n      <td>23</td>\n      <td>6</td>\n      <td>ATL</td>\n      <td>JFK</td>\n      <td>1515</td>\n      <td>NaN</td>\n    </tr>\n    <tr>\n      <th>517</th>\n      <td>1</td>\n      <td>23</td>\n      <td>6</td>\n      <td>SEA</td>\n      <td>JFK</td>\n      <td>1150</td>\n      <td>NaN</td>\n    </tr>\n    <tr>\n      <th>518</th>\n      <td>1</td>\n      <td>23</td>\n      <td>6</td>\n      <td>SEA</td>\n      <td>JFK</td>\n      <td>2250</td>\n      <td>NaN</td>\n    </tr>\n    <tr>\n      <th>521</th>\n      <td>1</td>\n      <td>23</td>\n      <td>6</td>\n      <td>ATL</td>\n      <td>JFK</td>\n      <td>1745</td>\n      <td>NaN</td>\n    </tr>\n    <tr>\n      <th>523</th>\n      <td>1</td>\n      <td>23</td>\n      <td>6</td>\n      <td>JFK</td>\n      <td>ATL</td>\n      <td>1930</td>\n      <td>NaN</td>\n    </tr>\n    <tr>\n      <th>526</th>\n      <td>1</td>\n      <td>23</td>\n      <td>6</td>\n      <td>ATL</td>\n      <td>JFK</td>\n      <td>810</td>\n      <td>NaN</td>\n    </tr>\n    <tr>\n      <th>529</th>\n      <td>1</td>\n      <td>24</td>\n      <td>7</td>\n      <td>ATL</td>\n      <td>JFK</td>\n      <td>810</td>\n      <td>NaN</td>\n    </tr>\n    <tr>\n      <th>541</th>\n      <td>1</td>\n      <td>22</td>\n      <td>5</td>\n      <td>ATL</td>\n      <td>JFK</td>\n      <td>2050</td>\n      <td>NaN</td>\n    </tr>\n    <tr>\n      <th>545</th>\n      <td>1</td>\n      <td>22</td>\n      <td>5</td>\n      <td>DTW</td>\n      <td>JFK</td>\n      <td>2000</td>\n      <td>NaN</td>\n    </tr>\n    <tr>\n      <th>553</th>\n      <td>1</td>\n      <td>23</td>\n      <td>6</td>\n      <td>SEA</td>\n      <td>JFK</td>\n      <td>700</td>\n      <td>NaN</td>\n    </tr>\n    <tr>\n      <th>556</th>\n      <td>1</td>\n      <td>23</td>\n      <td>6</td>\n      <td>JFK</td>\n      <td>DTW</td>\n      <td>1900</td>\n      <td>NaN</td>\n    </tr>\n    <tr>\n      <th>559</th>\n      <td>1</td>\n      <td>24</td>\n      <td>7</td>\n      <td>JFK</td>\n      <td>ATL</td>\n      <td>1715</td>\n      <td>NaN</td>\n    </tr>\n    <tr>\n      <th>560</th>\n      <td>1</td>\n      <td>24</td>\n      <td>7</td>\n      <td>JFK</td>\n      <td>MSP</td>\n      <td>1129</td>\n      <td>NaN</td>\n    </tr>\n    <tr>\n      <th>561</th>\n      <td>1</td>\n      <td>24</td>\n      <td>7</td>\n      <td>JFK</td>\n      <td>ATL</td>\n      <td>820</td>\n      <td>NaN</td>\n    </tr>\n    <tr>\n      <th>...</th>\n      <td>...</td>\n      <td>...</td>\n      <td>...</td>\n      <td>...</td>\n      <td>...</td>\n      <td>...</td>\n      <td>...</td>\n    </tr>\n    <tr>\n      <th>6823</th>\n      <td>8</td>\n      <td>11</td>\n      <td>4</td>\n      <td>ATL</td>\n      <td>DTW</td>\n      <td>710</td>\n      <td>NaN</td>\n    </tr>\n    <tr>\n      <th>6863</th>\n      <td>8</td>\n      <td>14</td>\n      <td>7</td>\n      <td>ATL</td>\n      <td>JFK</td>\n      <td>2115</td>\n      <td>NaN</td>\n    </tr>\n    <tr>\n      <th>6913</th>\n      <td>8</td>\n      <td>14</td>\n      <td>7</td>\n      <td>SEA</td>\n      <td>JFK</td>\n      <td>1320</td>\n      <td>NaN</td>\n    </tr>\n    <tr>\n      <th>6942</th>\n      <td>8</td>\n      <td>14</td>\n      <td>7</td>\n      <td>JFK</td>\n      <td>ATL</td>\n      <td>1744</td>\n      <td>NaN</td>\n    </tr>\n    <tr>\n      <th>6966</th>\n      <td>8</td>\n      <td>14</td>\n      <td>7</td>\n      <td>JFK</td>\n      <td>MSP</td>\n      <td>1445</td>\n      <td>NaN</td>\n    </tr>\n    <tr>\n      <th>6975</th>\n      <td>8</td>\n      <td>15</td>\n      <td>1</td>\n      <td>MSP</td>\n      <td>JFK</td>\n      <td>1010</td>\n      <td>NaN</td>\n    </tr>\n    <tr>\n      <th>7112</th>\n      <td>8</td>\n      <td>21</td>\n      <td>7</td>\n      <td>DTW</td>\n      <td>SEA</td>\n      <td>1155</td>\n      <td>NaN</td>\n    </tr>\n    <tr>\n      <th>7165</th>\n      <td>8</td>\n      <td>21</td>\n      <td>7</td>\n      <td>ATL</td>\n      <td>SEA</td>\n      <td>1414</td>\n      <td>NaN</td>\n    </tr>\n    <tr>\n      <th>7539</th>\n      <td>9</td>\n      <td>1</td>\n      <td>4</td>\n      <td>ATL</td>\n      <td>JFK</td>\n      <td>1515</td>\n      <td>NaN</td>\n    </tr>\n    <tr>\n      <th>7540</th>\n      <td>9</td>\n      <td>1</td>\n      <td>4</td>\n      <td>JFK</td>\n      <td>ATL</td>\n      <td>1520</td>\n      <td>NaN</td>\n    </tr>\n    <tr>\n      <th>7550</th>\n      <td>9</td>\n      <td>1</td>\n      <td>4</td>\n      <td>SEA</td>\n      <td>ATL</td>\n      <td>1215</td>\n      <td>NaN</td>\n    </tr>\n    <tr>\n      <th>8056</th>\n      <td>9</td>\n      <td>18</td>\n      <td>7</td>\n      <td>JFK</td>\n      <td>ATL</td>\n      <td>1720</td>\n      <td>NaN</td>\n    </tr>\n    <tr>\n      <th>8123</th>\n      <td>9</td>\n      <td>21</td>\n      <td>3</td>\n      <td>JFK</td>\n      <td>MSP</td>\n      <td>1840</td>\n      <td>NaN</td>\n    </tr>\n    <tr>\n      <th>8127</th>\n      <td>9</td>\n      <td>21</td>\n      <td>3</td>\n      <td>JFK</td>\n      <td>MSP</td>\n      <td>1555</td>\n      <td>NaN</td>\n    </tr>\n    <tr>\n      <th>8136</th>\n      <td>9</td>\n      <td>21</td>\n      <td>3</td>\n      <td>ATL</td>\n      <td>MSP</td>\n      <td>1945</td>\n      <td>NaN</td>\n    </tr>\n    <tr>\n      <th>8139</th>\n      <td>9</td>\n      <td>21</td>\n      <td>3</td>\n      <td>DTW</td>\n      <td>MSP</td>\n      <td>1958</td>\n      <td>NaN</td>\n    </tr>\n    <tr>\n      <th>8233</th>\n      <td>9</td>\n      <td>21</td>\n      <td>3</td>\n      <td>SEA</td>\n      <td>MSP</td>\n      <td>1516</td>\n      <td>NaN</td>\n    </tr>\n    <tr>\n      <th>8443</th>\n      <td>9</td>\n      <td>30</td>\n      <td>5</td>\n      <td>MSP</td>\n      <td>ATL</td>\n      <td>1010</td>\n      <td>NaN</td>\n    </tr>\n    <tr>\n      <th>9250</th>\n      <td>10</td>\n      <td>31</td>\n      <td>1</td>\n      <td>JFK</td>\n      <td>MSP</td>\n      <td>810</td>\n      <td>NaN</td>\n    </tr>\n    <tr>\n      <th>9807</th>\n      <td>11</td>\n      <td>18</td>\n      <td>5</td>\n      <td>SEA</td>\n      <td>MSP</td>\n      <td>1133</td>\n      <td>NaN</td>\n    </tr>\n    <tr>\n      <th>9836</th>\n      <td>11</td>\n      <td>18</td>\n      <td>5</td>\n      <td>DTW</td>\n      <td>MSP</td>\n      <td>1555</td>\n      <td>NaN</td>\n    </tr>\n    <tr>\n      <th>10181</th>\n      <td>11</td>\n      <td>30</td>\n      <td>3</td>\n      <td>MSP</td>\n      <td>ATL</td>\n      <td>1114</td>\n      <td>NaN</td>\n    </tr>\n    <tr>\n      <th>10557</th>\n      <td>12</td>\n      <td>8</td>\n      <td>4</td>\n      <td>ATL</td>\n      <td>DTW</td>\n      <td>900</td>\n      <td>NaN</td>\n    </tr>\n    <tr>\n      <th>10618</th>\n      <td>12</td>\n      <td>11</td>\n      <td>7</td>\n      <td>MSP</td>\n      <td>DTW</td>\n      <td>1155</td>\n      <td>NaN</td>\n    </tr>\n    <tr>\n      <th>10619</th>\n      <td>12</td>\n      <td>11</td>\n      <td>7</td>\n      <td>DTW</td>\n      <td>SEA</td>\n      <td>1545</td>\n      <td>NaN</td>\n    </tr>\n    <tr>\n      <th>10625</th>\n      <td>12</td>\n      <td>12</td>\n      <td>1</td>\n      <td>SEA</td>\n      <td>DTW</td>\n      <td>935</td>\n      <td>NaN</td>\n    </tr>\n    <tr>\n      <th>10746</th>\n      <td>12</td>\n      <td>16</td>\n      <td>5</td>\n      <td>JFK</td>\n      <td>MSP</td>\n      <td>1600</td>\n      <td>NaN</td>\n    </tr>\n    <tr>\n      <th>10756</th>\n      <td>12</td>\n      <td>17</td>\n      <td>6</td>\n      <td>JFK</td>\n      <td>ATL</td>\n      <td>1925</td>\n      <td>NaN</td>\n    </tr>\n    <tr>\n      <th>10785</th>\n      <td>12</td>\n      <td>18</td>\n      <td>7</td>\n      <td>ATL</td>\n      <td>JFK</td>\n      <td>1520</td>\n      <td>NaN</td>\n    </tr>\n    <tr>\n      <th>10786</th>\n      <td>12</td>\n      <td>18</td>\n      <td>7</td>\n      <td>JFK</td>\n      <td>ATL</td>\n      <td>1529</td>\n      <td>NaN</td>\n    </tr>\n  </tbody>\n</table>\n<p>188 rows × 7 columns</p>\n</div>",
            "text/plain": "       MONTH  DAY_OF_MONTH  DAY_OF_WEEK ORIGIN DEST  CRS_DEP_TIME  ARR_DEL15\n177        1             9            6    MSP  SEA           701        NaN\n179        1            10            7    MSP  DTW          1348        NaN\n184        1            10            7    MSP  DTW           625        NaN\n210        1            10            7    DTW  MSP          1200        NaN\n478        1            22            5    SEA  JFK          2305        NaN\n481        1            22            5    ATL  JFK          1745        NaN\n491        1            22            5    MSP  JFK          1755        NaN\n499        1            23            6    JFK  ATL          1325        NaN\n500        1            23            6    JFK  ATL          1540        NaN\n501        1            23            6    JFK  SEA           740        NaN\n502        1            23            6    JFK  ATL           610        NaN\n503        1            23            6    JFK  ATL           805        NaN\n504        1            23            6    JFK  ATL          1715        NaN\n505        1            23            6    JFK  SEA          1825        NaN\n506        1            23            6    ATL  JFK          1205        NaN\n507        1            23            6    JFK  SEA          1615        NaN\n511        1            23            6    ATL  JFK          1515        NaN\n517        1            23            6    SEA  JFK          1150        NaN\n518        1            23            6    SEA  JFK          2250        NaN\n521        1            23            6    ATL  JFK          1745        NaN\n523        1            23            6    JFK  ATL          1930        NaN\n526        1            23            6    ATL  JFK           810        NaN\n529        1            24            7    ATL  JFK           810        NaN\n541        1            22            5    ATL  JFK          2050        NaN\n545        1            22            5    DTW  JFK          2000        NaN\n553        1            23            6    SEA  JFK           700        NaN\n556        1            23            6    JFK  DTW          1900        NaN\n559        1            24            7    JFK  ATL          1715        NaN\n560        1            24            7    JFK  MSP          1129        NaN\n561        1            24            7    JFK  ATL           820        NaN\n...      ...           ...          ...    ...  ...           ...        ...\n6823       8            11            4    ATL  DTW           710        NaN\n6863       8            14            7    ATL  JFK          2115        NaN\n6913       8            14            7    SEA  JFK          1320        NaN\n6942       8            14            7    JFK  ATL          1744        NaN\n6966       8            14            7    JFK  MSP          1445        NaN\n6975       8            15            1    MSP  JFK          1010        NaN\n7112       8            21            7    DTW  SEA          1155        NaN\n7165       8            21            7    ATL  SEA          1414        NaN\n7539       9             1            4    ATL  JFK          1515        NaN\n7540       9             1            4    JFK  ATL          1520        NaN\n7550       9             1            4    SEA  ATL          1215        NaN\n8056       9            18            7    JFK  ATL          1720        NaN\n8123       9            21            3    JFK  MSP          1840        NaN\n8127       9            21            3    JFK  MSP          1555        NaN\n8136       9            21            3    ATL  MSP          1945        NaN\n8139       9            21            3    DTW  MSP          1958        NaN\n8233       9            21            3    SEA  MSP          1516        NaN\n8443       9            30            5    MSP  ATL          1010        NaN\n9250      10            31            1    JFK  MSP           810        NaN\n9807      11            18            5    SEA  MSP          1133        NaN\n9836      11            18            5    DTW  MSP          1555        NaN\n10181     11            30            3    MSP  ATL          1114        NaN\n10557     12             8            4    ATL  DTW           900        NaN\n10618     12            11            7    MSP  DTW          1155        NaN\n10619     12            11            7    DTW  SEA          1545        NaN\n10625     12            12            1    SEA  DTW           935        NaN\n10746     12            16            5    JFK  MSP          1600        NaN\n10756     12            17            6    JFK  ATL          1925        NaN\n10785     12            18            7    ATL  JFK          1520        NaN\n10786     12            18            7    JFK  ATL          1529        NaN\n\n[188 rows x 7 columns]"
          },
          "metadata": {}
        }
      ]
    },
    {
      "metadata": {},
      "cell_type": "markdown",
      "source": "The reason these rows are missing ARR_DEL15 values is that they all correspond to flights that were canceled or diverted."
    },
    {
      "metadata": {
        "trusted": true
      },
      "cell_type": "code",
      "source": "#We replace the NaN values with 1 to mean the flight did not arrive on time\ndata = data.fillna({'ARR_DEL15': 1})\ndata.iloc[177:185]\ndata.isnull().values.any()",
      "execution_count": 55,
      "outputs": [
        {
          "output_type": "execute_result",
          "execution_count": 55,
          "data": {
            "text/plain": "False"
          },
          "metadata": {}
        }
      ]
    },
    {
      "metadata": {},
      "cell_type": "markdown",
      "source": "The CRS_DEP_TIME column of the dataset you are using represents scheduled departure times. The granularity of the numbers in this column — it contains more than 500 unique values — could have a negative impact on accuracy in a machine-learning model. This can be resolved using a technique called binning or quantization. What if you divided each number in this column by 100 and rounded down to the nearest integer? 1030 would become 10, 1925 would become 19, and so on, and you would be left with a maximum of 24 discrete values in this column. Intuitively, it makes sense, because it probably doesn't matter much whether a flight leaves at 10:30 a.m. or 10:40 a.m. It matters a great deal whether it leaves at 10:30 a.m. or 5:30 p.m.\n\nIn addition, the dataset's ORIGIN and DEST columns contain airport codes that represent categorical machine-learning values. These columns need to be converted into discrete columns containing indicator variables, sometimes known as \"dummy\" variables. In other words, the ORIGIN column, which contains five airport codes, needs to be converted into five columns, one per airport, with each column containing 1s and 0s indicating whether a flight originated at the airport that the column represents. The DEST column needs to be handled in a similar manner."
    },
    {
      "metadata": {},
      "cell_type": "markdown",
      "source": "Here we do what we call enconding the data set and scalling"
    },
    {
      "metadata": {
        "trusted": true
      },
      "cell_type": "code",
      "source": "#scaling the scheduled depature time\nimport math\n\nfor index, row in data.iterrows():\n    data.loc[index, 'CRS_DEP_TIME'] = math.floor(row['CRS_DEP_TIME'] / 100)\ndata.head()",
      "execution_count": null,
      "outputs": []
    },
    {
      "metadata": {},
      "cell_type": "markdown",
      "source": "Confirm that the numbers in the CRS_DEP_TIME column now fall in the range 0 to 23:"
    },
    {
      "metadata": {
        "trusted": true
      },
      "cell_type": "code",
      "source": "#enconding the ORIGIN and the DEST columns",
      "execution_count": null,
      "outputs": []
    },
    {
      "metadata": {
        "trusted": true
      },
      "cell_type": "code",
      "source": "data = pd.get_dummies(data, columns=['ORIGIN', 'DEST'])\ndata.head()",
      "execution_count": null,
      "outputs": []
    },
    {
      "metadata": {},
      "cell_type": "markdown",
      "source": "The new columns have 1s and 0s indicating whether a given flight originated at or was destined for the corresponding airport"
    },
    {
      "metadata": {},
      "cell_type": "markdown",
      "source": "# Now Lets Build Machine Learning Model"
    },
    {
      "metadata": {},
      "cell_type": "markdown",
      "source": "To create a machine learning model, you need two datasets: one for training and one for testing.\nYou also need to separate the DataFrame into feature columns and label columns."
    },
    {
      "metadata": {
        "trusted": true
      },
      "cell_type": "code",
      "source": "#splitting the data into train and test\nfrom sklearn.model_selection import train_test_split\ntrain_x, test_x, train_y, test_y = train_test_split(data.drop('ARR_DEL15', axis=1), data['ARR_DEL15'], test_size=0.2, random_state=42)",
      "execution_count": null,
      "outputs": []
    },
    {
      "metadata": {
        "trusted": true
      },
      "cell_type": "code",
      "source": "#viewing the shape x_train data\ntrain_x.shape",
      "execution_count": null,
      "outputs": []
    },
    {
      "metadata": {
        "trusted": true
      },
      "cell_type": "code",
      "source": "#viewing the shape x_test data\ntest_x.shape",
      "execution_count": null,
      "outputs": []
    },
    {
      "metadata": {
        "trusted": true
      },
      "cell_type": "markdown",
      "source": "Since we want to know if the train arrived on time or not we are going to you a binary classiffier. Here we are going to use a RandomForestClassifier, which fits multiple decision trees to the data and uses averaging to boost the overall accuracy and limit overfitting."
    },
    {
      "metadata": {
        "trusted": true
      },
      "cell_type": "code",
      "source": "#Importing and fitting the classifier\nfrom sklearn.ensemble import RandomForestClassifier\n\nmodel = RandomForestClassifier(random_state=13)\nmodel.fit(train_x, train_y)",
      "execution_count": null,
      "outputs": []
    },
    {
      "metadata": {},
      "cell_type": "markdown",
      "source": "# Scoring our model or Viewing the performance of our model"
    },
    {
      "metadata": {
        "trusted": true
      },
      "cell_type": "code",
      "source": "#Determinig the accuracy of our model.\n#Note: Accuracy is prone to class imbalance so it is not\n#always a good measure to determine the performance of our model\npredicted = model.predict(test_x)\nmodel.score(test_x, test_y)",
      "execution_count": null,
      "outputs": []
    },
    {
      "metadata": {},
      "cell_type": "markdown",
      "source": "The mean accuracy is 86%, which seems good on the surface. However, mean accuracy isn't always a reliable indicator of the accuracy of a classification model. Let's dig a little deeper and determine how accurate the model really is — that is, how adept it is at determining whether a flight will arrive on time.\n\n\n\nThere are several ways to measure the accuracy of a classification model. One of the best overall measures for a binary classification model is Area Under Receiver Operating Characteristic Curve (sometimes referred to as \"ROC AUC\"), which essentially quantifies how often the model will make a correct prediction regardless of the outcome."
    },
    {
      "metadata": {},
      "cell_type": "markdown",
      "source": "Before you compute the ROC AUC, you must generate prediction probabilities for the test set. These probabilities are estimates for each of the classes, or answers, the model can predict. For example, [0.88199435, 0.11800565] means that there's an 89% chance that a flight will arrive on time (ARR_DEL15 = 0) and a 12% chance that it won't (ARR_DEL15 = 1). The sum of the two probabilities adds up to 100%."
    },
    {
      "metadata": {
        "trusted": true
      },
      "cell_type": "code",
      "source": "#calculating the probabilities\nfrom sklearn.metrics import roc_auc_score\nprobabilities = model.predict_proba(test_x)\nprobabilities",
      "execution_count": null,
      "outputs": []
    },
    {
      "metadata": {},
      "cell_type": "markdown",
      "source": "To generate an ROC AUC score from the probabilities using scikit-learn's roc_auc_score method"
    },
    {
      "metadata": {
        "trusted": true
      },
      "cell_type": "code",
      "source": "roc_auc_score(test_y, probabilities[:, 1])",
      "execution_count": null,
      "outputs": []
    },
    {
      "metadata": {},
      "cell_type": "markdown",
      "source": "The output from the score method reflects how many of the items in the test set the model predicted correctly. This score is skewed by the fact that the dataset the model was trained and tested with contains many more rows representing on-time arrivals than rows representing late arrivals. Because of this imbalance in the data, you're more likely to be correct if you predict that a flight will be on time than if you predict that a flight will be late."
    },
    {
      "metadata": {},
      "cell_type": "markdown",
      "source": "You can learn more about the model's behavior by generating a confusion matrix, also known as an error matrix. The confusion matrix quantifies the number of times each answer was classified correctly or incorrectly. Specifically, it quantifies the number of false positives, false negatives, true positives, and true negatives. This is important, because if a binary classification model trained to recognize cats and dogs is tested with a dataset that is 95% dogs, it could score 95% simply by guessing \"dog\" every time. But if it failed to identify cats at all, it would be of little value."
    },
    {
      "metadata": {
        "trusted": true
      },
      "cell_type": "code",
      "source": "from sklearn.metrics import confusion_matrix\nconfusion_matrix(test_y, predicted)",
      "execution_count": null,
      "outputs": []
    },
    {
      "metadata": {},
      "cell_type": "markdown",
      "source": "But look at the second row, which represents flights that were delayed. The first column shows how many delayed flights were incorrectly predicted to be on time. The second column shows how many flights were correctly predicted to be delayed. Clearly, the model isn't nearly as adept at predicting that a flight will be delayed as it is at predicting that a flight will arrive on time. What you want in a confusion matrix is large numbers in the upper-left and lower-right corners, and small numbers (preferably zeros) in the upper-right and lower-left corners.\n\nOther measures of accuracy for a classification model include precision and recall. Suppose the model was presented with three on-time arrivals and three delayed arrivals, and that it correctly predicted two of the on-time arrivals, but incorrectly predicted that two of the delayed arrivals would be on time. In this case, the precision would be 50% (two of the four flights it classified as being on time actually were on time), while its recall would be 67% (it correctly identified two of the three on-time arrivals). You can learn more about precision and recall from https://en.wikipedia.org/wiki/Precision_and_recall\n\nScikit-learn contains a handy method named precision_score for computing precision.Precision is the positive predicted values"
    },
    {
      "metadata": {
        "trusted": true
      },
      "cell_type": "code",
      "source": "from sklearn.metrics import precision_score\n\ntrain_predictions = model.predict(train_x)\nprecision_score(train_y, train_predictions)",
      "execution_count": null,
      "outputs": []
    },
    {
      "metadata": {},
      "cell_type": "markdown",
      "source": "Scikit-learn also contains a method named recall_score for computing recall. Recall/sensitivity/Probability of Detection is the value os true positive rate.True positives are data point classified as positive by the model that actually are positive (meaning they are correct)."
    },
    {
      "metadata": {
        "trusted": true
      },
      "cell_type": "code",
      "source": "from sklearn.metrics import recall_score\n\nrecall_score(train_y, train_predictions)",
      "execution_count": null,
      "outputs": []
    },
    {
      "metadata": {},
      "cell_type": "markdown",
      "source": "In the real world, a trained data scientist would look for ways to make the model even more accurate. Among other things, they would try different algorithms and take steps to tune the chosen algorithm to find the optimum combination of parameters. Another likely step would be to expand the dataset to millions of rows rather than a few thousand and also attempt to reduce the imbalance between late and on-time arrivals. But for our purposes, the model is fine as-is.\n\n"
    },
    {
      "metadata": {},
      "cell_type": "markdown",
      "source": "# Next we Visualize the Output of the model"
    },
    {
      "metadata": {
        "trusted": true
      },
      "cell_type": "code",
      "source": "# Here we use matplotlib and seaborn libraries\n%matplotlib inline\nimport matplotlib.pyplot as plt\nimport seaborn as sns\n\nsns.set()",
      "execution_count": null,
      "outputs": []
    },
    {
      "metadata": {},
      "cell_type": "markdown",
      "source": "The first statement is one of several magic commands supported by the Python kernel that you selected when you created the notebook. It enables Jupyter to render Matplotlib output in a notebook without making repeated calls to show. And it must appear before any references to Matplotlib itself. The final statement configures Seaborn to enhance the output from Matplotlib."
    },
    {
      "metadata": {
        "trusted": true
      },
      "cell_type": "code",
      "source": "#lets plot the ROC\nfrom sklearn.metrics import roc_curve\n\nfpr, tpr, _ = roc_curve(test_y, probabilities[:, 1])\nplt.plot(fpr, tpr)\nplt.plot([0, 1], [0, 1], color='grey', lw=1, linestyle='--')\nplt.xlabel('False Positive Rate')\nplt.ylabel('True Positive Rate')",
      "execution_count": null,
      "outputs": []
    },
    {
      "metadata": {},
      "cell_type": "markdown",
      "source": "The dotted line in the middle of the graph represents a 50-50 chance of obtaining a correct answer. The blue curve represents the accuracy of your model"
    },
    {
      "metadata": {},
      "cell_type": "markdown",
      "source": "The reason you built a machine-learning model is to predict whether a flight will arrive on time or late.\nWe write a Python function that calls the machine-learning model you built in the previous lab to compute the likelihood that a flight will be on time. Then we will use the function to analyze several flights."
    },
    {
      "metadata": {
        "trusted": true
      },
      "cell_type": "code",
      "source": "def predict_delay(departure_date_time, origin, destination):\n    from datetime import datetime\n\n    try:\n        departure_date_time_parsed = datetime.strptime(departure_date_time, '%d/%m/%Y %H:%M:%S')\n    except ValueError as e:\n        return 'Error parsing date/time - {}'.format(e)\n\n    month = departure_date_time_parsed.month\n    day = departure_date_time_parsed.day\n    day_of_week = departure_date_time_parsed.isoweekday()\n    hour = departure_date_time_parsed.hour\n\n    origin = origin.upper()\n    destination = destination.upper()\n\n    input = [{'MONTH': month,\n              'DAY': day,\n              'DAY_OF_WEEK': day_of_week,\n              'CRS_DEP_TIME': hour,\n              'ORIGIN_ATL': 1 if origin == 'ATL' else 0,\n              'ORIGIN_DTW': 1 if origin == 'DTW' else 0,\n              'ORIGIN_JFK': 1 if origin == 'JFK' else 0,\n              'ORIGIN_MSP': 1 if origin == 'MSP' else 0,\n              'ORIGIN_SEA': 1 if origin == 'SEA' else 0,\n              'DEST_ATL': 1 if destination == 'ATL' else 0,\n              'DEST_DTW': 1 if destination == 'DTW' else 0,\n              'DEST_JFK': 1 if destination == 'JFK' else 0,\n              'DEST_MSP': 1 if destination == 'MSP' else 0,\n              'DEST_SEA': 1 if destination == 'SEA' else 0 }]\n\n    return model.predict_proba(pd.DataFrame(input))[0][0]",
      "execution_count": null,
      "outputs": []
    },
    {
      "metadata": {},
      "cell_type": "markdown",
      "source": "This function takes as input a date and time, an origin airport code, and a destination airport code, and returns a value between 0.0 and 1.0 indicating the probability that the flight will arrive at its destination on time. It uses the machine-learning model you built in the previous lab to compute the probability. And to call the model, it passes a DataFrame containing the input values to predict_proba. The structure of the DataFrame exactly matches the structure of the DataFrame we used earlier."
    },
    {
      "metadata": {},
      "cell_type": "markdown",
      "source": "#### Note:\nDate input to the predict_delay function use the international date format dd/mm/year."
    },
    {
      "metadata": {},
      "cell_type": "markdown",
      "source": "We then compute the probability that a flight from New York to Atlanta on the evening of October 1 will arrive on time. The year we enter is irrelevant because it isn't used by the model."
    },
    {
      "metadata": {
        "trusted": true
      },
      "cell_type": "code",
      "source": "predict_delay('1/10/2018 21:45:00', 'JFK', 'ATL')",
      "execution_count": null,
      "outputs": []
    },
    {
      "metadata": {
        "trusted": true
      },
      "cell_type": "code",
      "source": "#Modifying the code to compute the probability that the same flight a day later will arrive on time\npredict_delay('2/10/2018 21:45:00', 'JFK', 'ATL')",
      "execution_count": null,
      "outputs": []
    },
    {
      "metadata": {
        "trusted": true
      },
      "cell_type": "code",
      "source": "#modifying the code to compute the probability that a morning flight the same day from Atlanta to Seattle will arrive on time\npredict_delay('2/10/2018 10:00:00', 'ATL', 'SEA')",
      "execution_count": null,
      "outputs": []
    },
    {
      "metadata": {},
      "cell_type": "markdown",
      "source": "You now have an easy way to predict, with a single line of code, whether a flight is likely to be on time or late. Feel free to experiment with other dates, times, origins, and destinations. But keep in mind that the results are only meaningful for the airport codes ATL, DTW, JFK, MSP, and SEA because those are the only airport codes the model was trained with."
    },
    {
      "metadata": {},
      "cell_type": "markdown",
      "source": "Let us plot the probability of on-time arrivals for an evening flight from JFK to ATL over a range of days"
    },
    {
      "metadata": {
        "trusted": true
      },
      "cell_type": "code",
      "source": "import numpy as np\n\nlabels = ('Oct 1', 'Oct 2', 'Oct 3', 'Oct 4', 'Oct 5', 'Oct 6', 'Oct 7')\nvalues = (predict_delay('1/10/2018 21:45:00', 'JFK', 'ATL'),\n          predict_delay('2/10/2018 21:45:00', 'JFK', 'ATL'),\n          predict_delay('3/10/2018 21:45:00', 'JFK', 'ATL'),\n          predict_delay('4/10/2018 21:45:00', 'JFK', 'ATL'),\n          predict_delay('5/10/2018 21:45:00', 'JFK', 'ATL'),\n          predict_delay('6/10/2018 21:45:00', 'JFK', 'ATL'),\n          predict_delay('7/10/2018 21:45:00', 'JFK', 'ATL'))\nalabels = np.arange(len(labels))\n\nplt.bar(alabels, values, align='center', alpha=0.5)\nplt.xticks(alabels, labels)\nplt.ylabel('Probability of On-Time Arrival')\nplt.ylim((0.0, 1.0))",
      "execution_count": null,
      "outputs": []
    },
    {
      "metadata": {},
      "cell_type": "markdown",
      "source": "We  produce a graph showing the probability that flights leaving SEA for ATL at 9:00 a.m., noon, 3:00 p.m., 6:00 p.m., and 9:00 p.m. on January 30 will arrive on time."
    },
    {
      "metadata": {
        "trusted": true
      },
      "cell_type": "code",
      "source": "import numpy as np\n\nlabels = (\"9:00 a.m.\", \"noon\", \"3:00 p.m.\", \"6:00 p.m.\", \"9:00 p.m\")\nvalues = (predict_delay('30/1/2018 09:00:00', 'SEA', 'ATL'),\n          predict_delay('30/1/2018 12:00:00', 'SEA', 'ATL'),\n          predict_delay('30/1/2018 15:00:00', 'SEA', 'ATL'),\n          predict_delay('30/1/2018 18:00:00', 'SEA', 'ATL'),\n          predict_delay('30/1/2018 21:00:00', 'SEA', 'ATL'))\nalabels = np.arange(len(labels))\n\nplt.bar(alabels, values, align='center', alpha=0.5)\nplt.xticks(alabels, labels)\nplt.ylabel('Probability of On-Time Arrival')\nplt.ylim((0.0, 1.0))",
      "execution_count": null,
      "outputs": []
    },
    {
      "metadata": {},
      "cell_type": "markdown",
      "source": "If you are new to Matplotlib and would like to learn more about it, you will find an excellent tutorial at https://www.labri.fr/perso/nrougier/teaching/matplotlib/. There is much more to Matplotlib than what was shown here, which is one reason why it is so popular in the Python community."
    },
    {
      "metadata": {
        "trusted": true
      },
      "cell_type": "code",
      "source": "",
      "execution_count": null,
      "outputs": []
    }
  ],
  "metadata": {
    "kernelspec": {
      "name": "python36",
      "display_name": "Python 3.6",
      "language": "python"
    },
    "language_info": {
      "mimetype": "text/x-python",
      "nbconvert_exporter": "python",
      "name": "python",
      "pygments_lexer": "ipython3",
      "version": "3.6.6",
      "file_extension": ".py",
      "codemirror_mode": {
        "version": 3,
        "name": "ipython"
      }
    }
  },
  "nbformat": 4,
  "nbformat_minor": 2
}